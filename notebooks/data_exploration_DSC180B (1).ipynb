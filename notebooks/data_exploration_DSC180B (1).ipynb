{
 "cells": [
  {
   "cell_type": "code",
   "execution_count": null,
   "metadata": {},
   "outputs": [],
   "source": [
    "import ee\n",
    "# authentication\n",
    "service_account ='id-80b-capstone@a-capstone.iam.gserviceaccount.com'\n",
    "credentials = ee.ServiceAccountCredentials(service_account, \"a-capstone-fec01f15055b.json\")\n",
    "ee.Initialize(credentials)"
   ]
  },
  {
   "cell_type": "code",
   "execution_count": null,
   "metadata": {
    "tags": []
   },
   "outputs": [],
   "source": [
    "import folium\n",
    "import geemap\n",
    "import os\n",
    "import IPython.display as disp\n",
    "from IPython.display import Image\n",
    "import glob"
   ]
  },
  {
   "cell_type": "code",
   "execution_count": null,
   "metadata": {},
   "outputs": [],
   "source": [
    "# !pip install rasterio\n",
    "import rasterio #for reading images\n",
    "from skimage.transform import resize"
   ]
  },
  {
   "cell_type": "code",
   "execution_count": null,
   "metadata": {},
   "outputs": [],
   "source": [
    "from sklearn import cluster\n",
    "from sklearn.metrics import silhouette_score\n",
    "from skimage import data\n",
    "from skimage.filters import try_all_threshold\n",
    "from skimage.filters import threshold_minimum\n",
    "from datetime import datetime\n",
    "import numpy as np\n",
    "import pandas as pd\n",
    "import matplotlib.pyplot as plt "
   ]
  },
  {
   "cell_type": "code",
   "execution_count": null,
   "metadata": {},
   "outputs": [],
   "source": [
    "import sys\n",
    "\n",
    "sys.path.append('../src/data/')\n",
    "\n",
    "from make_dataset import exportData, computeMNDWI, readData, computeNDWI\n",
    "from etl import computeNDWI"
   ]
  },
  {
   "cell_type": "markdown",
   "metadata": {},
   "source": [
    "Use this website to generate new JSON structures: https://geojson.io/#new&map=10.57/39.6198/-121.4357"
   ]
  },
  {
   "cell_type": "code",
   "execution_count": null,
   "metadata": {},
   "outputs": [],
   "source": [
    "# might be useful later\n",
    "geoJSON = {\n",
    "  \"type\": \"FeatureCollection\",\n",
    "  \"features\": [\n",
    "    {\n",
    "      \"type\": \"Feature\",\n",
    "      \"properties\": {},\n",
    "      \"geometry\": {\n",
    "        \"coordinates\": [\n",
    "          [\n",
    "            [\n",
    "              -121.57931418110947,\n",
    "              39.73107014130147\n",
    "            ],\n",
    "            [\n",
    "              -121.57931418110947,\n",
    "              39.524185236048766\n",
    "            ],\n",
    "            [\n",
    "              -121.28277910072802,\n",
    "              39.524185236048766\n",
    "            ],\n",
    "            [\n",
    "              -121.28277910072802,\n",
    "              39.73107014130147\n",
    "            ],\n",
    "            [\n",
    "              -121.57931418110947,\n",
    "              39.73107014130147\n",
    "            ]\n",
    "          ]\n",
    "        ],\n",
    "        \"type\": \"Polygon\"\n",
    "      }\n",
    "    }\n",
    "  ]\n",
    "}"
   ]
  },
  {
   "cell_type": "code",
   "execution_count": null,
   "metadata": {},
   "outputs": [],
   "source": [
    "coords = geoJSON['features'][0]['geometry']['coordinates']\n",
    "aoi = ee.Geometry.Polygon(coords)\n",
    "\n",
    "start_date = '2013-03-18'\n",
    "end_date = '2022-10-24'"
   ]
  },
  {
   "cell_type": "code",
   "execution_count": null,
   "metadata": {},
   "outputs": [],
   "source": [
    "# Define a method for displaying Earth Engine image tiles on a folium map.\n",
    "def add_ee_layer(self, ee_image_object, vis_params, name):\n",
    "    \"\"\"Adds a method for displaying Earth Engine image tiles to folium map.\"\"\"\n",
    "    map_id_dict = ee.Image(ee_image_object).getMapId(vis_params)\n",
    "    folium.raster_layers.TileLayer(\n",
    "        tiles=map_id_dict['tile_fetcher'].url_format,\n",
    "        attr='Map Data &copy; <a href=\"https://earthengine.google.com/\">Google Earth Engine</a>',\n",
    "        name=name,\n",
    "        overlay=True,\n",
    "        control=True\n",
    "    ).add_to(self)\n",
    "\n",
    "# Add Earth Engine drawing method to folium.\n",
    "folium.Map.add_ee_layer = add_ee_layer"
   ]
  },
  {
   "cell_type": "markdown",
   "metadata": {},
   "source": [
    "Used some code from here: https://gis.stackexchange.com/questions/332259/calculate-ndwi-of-each-image-in-a-imagecollection"
   ]
  },
  {
   "cell_type": "code",
   "execution_count": null,
   "metadata": {},
   "outputs": [],
   "source": []
  },
  {
   "cell_type": "code",
   "execution_count": null,
   "metadata": {},
   "outputs": [],
   "source": []
  },
  {
   "cell_type": "code",
   "execution_count": null,
   "metadata": {
    "tags": []
   },
   "outputs": [],
   "source": [
    "# import Landsat 8 Level 2, Collection 2, Tier 1 surface reflectance\n",
    "images_sr = ee.ImageCollection(\"LANDSAT/LC08/C02/T1_L2\").filterDate(start_date, end_date).filterBounds(aoi)\n",
    "# filter cloudy images, threshold of 50%\n",
    "images_sr = images_sr.filter(ee.Filter.lte('CLOUD_COVER', 0.80))"
   ]
  },
  {
   "cell_type": "code",
   "execution_count": null,
   "metadata": {},
   "outputs": [],
   "source": []
  },
  {
   "cell_type": "code",
   "execution_count": null,
   "metadata": {},
   "outputs": [],
   "source": []
  },
  {
   "cell_type": "code",
   "execution_count": null,
   "metadata": {},
   "outputs": [],
   "source": [
    "# sentinel \n",
    "images_sentinel = ee.ImageCollection(\"COPERNICUS/S2_SR_HARMONIZED\").filterDate(start_date, end_date).filterBounds(aoi)\n",
    "images_setinel = images_sentinel.filter(ee.Filter.lte('CLOUDY_PIXEL_PERCENTAGE', 0.20))"
   ]
  },
  {
   "cell_type": "code",
   "execution_count": null,
   "metadata": {},
   "outputs": [],
   "source": [
    "# Landsat 7 Level 2, Collection 2, Tier 1 surface reflectance\n",
    "images_landsat7 = ee.ImageCollection(\"LANDSAT/LC08/C02/T1_L2\").filterDate(start_date, end_date).filterBounds(aoi)\n",
    "images_landsat7 = images_landsat7.filter(ee.Filter.lte('CLOUD_COVER', 0.80))"
   ]
  },
  {
   "cell_type": "code",
   "execution_count": null,
   "metadata": {},
   "outputs": [],
   "source": [
    "# MOD44W.006 Terra Land Water Mask Derived From MODIS and SRTM Yearly Global 250m\n",
    "modis_water_mask = ee.ImageCollection(\"MODIS/006/MOD44W\").filterDate(start_date, end_date).filterBounds(aoi)"
   ]
  },
  {
   "cell_type": "code",
   "execution_count": null,
   "metadata": {},
   "outputs": [],
   "source": [
    "# JRC Monthly Water History, v1.4\n",
    "images_validation = ee.ImageCollection(\"JRC/GSW1_4/MonthlyHistory\").filterDate(start_date, end_date).filterBounds(aoi)"
   ]
  },
  {
   "cell_type": "code",
   "execution_count": null,
   "metadata": {},
   "outputs": [],
   "source": []
  },
  {
   "cell_type": "markdown",
   "metadata": {},
   "source": [
    "### Export Image Collection Section"
   ]
  },
  {
   "cell_type": "markdown",
   "metadata": {},
   "source": [
    "##### Export landsat 7 image data"
   ]
  },
  {
   "cell_type": "code",
   "execution_count": null,
   "metadata": {},
   "outputs": [],
   "source": [
    "landsat7 = images_landsat7.map(computeNDWI).select(\"NDWI\")\n",
    "collection_list = landsat7.toList(landsat7.size())\n",
    "collection_size = collection_list.size().getInfo()\n",
    "# # has a bug, has many dates that shouldnt be there. However, I will fix later\n",
    "dates = geemap.image_dates(landsat7, date_format='YYYY-MM-dd').getInfo()"
   ]
  },
  {
   "cell_type": "code",
   "execution_count": null,
   "metadata": {},
   "outputs": [],
   "source": [
    "# exportData(\n",
    "#     aoi,\n",
    "#     dates, \n",
    "#     collection_size, \n",
    "#     collection_list, \n",
    "#     \"../data/LANDSAT7_NDWI/LANDSAT7_NDWI_{}.tif\"\n",
    "# )"
   ]
  },
  {
   "cell_type": "markdown",
   "metadata": {},
   "source": [
    "##### Export modis water mask image data"
   ]
  },
  {
   "cell_type": "code",
   "execution_count": null,
   "metadata": {},
   "outputs": [],
   "source": [
    "modis = modis_water_mask.select(\"water_mask\")\n",
    "collection_list = modis.toList(modis.size())\n",
    "collection_size = collection_list.size().getInfo()\n",
    "# # has a bug, has many dates that shouldnt be there. However, I will fix later\n",
    "dates = geemap.image_dates(modis, date_format='YYYY-MM-dd').getInfo()"
   ]
  },
  {
   "cell_type": "code",
   "execution_count": null,
   "metadata": {},
   "outputs": [],
   "source": [
    "# exportData(\n",
    "#     aoi,\n",
    "#     dates, \n",
    "#     collection_size, \n",
    "#     collection_list, \n",
    "#     \"../data/WATER_MASK_DERIVED_MODIS/MODIS_WATER_MASK_{}.tif\"\n",
    "# )"
   ]
  },
  {
   "cell_type": "markdown",
   "metadata": {},
   "source": [
    "##### Export setinel image data"
   ]
  },
  {
   "cell_type": "code",
   "execution_count": null,
   "metadata": {},
   "outputs": [],
   "source": [
    "setinel = images_setinel.map(computeNDWI).select(\"NDWI\")\n",
    "collection_list = setinel.toList(setinel.size())\n",
    "collection_size = collection_list.size().getInfo()\n",
    "# # has a bug, has many dates that shouldnt be there. However, I will fix later\n",
    "dates = geemap.image_dates(setinel, date_format='YYYY-MM-dd').getInfo()"
   ]
  },
  {
   "cell_type": "code",
   "execution_count": null,
   "metadata": {},
   "outputs": [],
   "source": [
    "# exportData(\n",
    "#     aoi,\n",
    "#     dates, \n",
    "#     collection_size, \n",
    "#     collection_list, \n",
    "#     \"../data/SENTINEL2_NDWI/SENTINEL2_NDWI_{}.tif\"\n",
    "# )"
   ]
  },
  {
   "cell_type": "code",
   "execution_count": null,
   "metadata": {},
   "outputs": [],
   "source": []
  },
  {
   "cell_type": "markdown",
   "metadata": {},
   "source": [
    "#### Band 3"
   ]
  },
  {
   "cell_type": "code",
   "execution_count": null,
   "metadata": {},
   "outputs": [],
   "source": [
    "# SR_B3 band\n",
    "sr_b3 = images_sr.select('SR_B3')\n",
    "collection_list = sr_b3.toList(sr_b3.size())\n",
    "collection_size = collection_list.size().getInfo()\n",
    "# has a bug, has many dates that shouldnt be there. However, I will fix later\n",
    "dates = geemap.image_dates(sr_b3, date_format='YYYY-MM-dd').getInfo()"
   ]
  },
  {
   "cell_type": "code",
   "execution_count": null,
   "metadata": {},
   "outputs": [],
   "source": [
    "# exportData(\n",
    "#     aoi,\n",
    "#     dates, \n",
    "#     collection_size, \n",
    "#     collection_list, \n",
    "#     \"../data/images/LANDSAT8_SR_B3/LANDSAT8_SR_B3_{}.tif\"\n",
    "# )"
   ]
  },
  {
   "cell_type": "markdown",
   "metadata": {},
   "source": [
    "#### Band 5"
   ]
  },
  {
   "cell_type": "code",
   "execution_count": null,
   "metadata": {},
   "outputs": [],
   "source": [
    "# SR_B5 band\n",
    "sr_b5 = images_sr.select('SR_B5')\n",
    "collection_list = sr_b5.toList(sr_b5.size())\n",
    "collection_size = collection_list.size().getInfo()\n",
    "# has a bug, has many dates that shouldnt be there. However, I will fix later\n",
    "dates = geemap.image_dates(sr_b5, date_format='YYYY-MM-dd').getInfo()"
   ]
  },
  {
   "cell_type": "code",
   "execution_count": null,
   "metadata": {
    "scrolled": true
   },
   "outputs": [],
   "source": [
    "# exportData(\n",
    "#     aoi,\n",
    "#     dates, \n",
    "#     collection_size, \n",
    "#     collection_list, \n",
    "#     \"../data/images/LANDSAT8_SR_B5/LANDSAT8_SR_B5_{}.tif\"\n",
    "# )"
   ]
  },
  {
   "cell_type": "markdown",
   "metadata": {},
   "source": [
    "#### Band 6"
   ]
  },
  {
   "cell_type": "code",
   "execution_count": null,
   "metadata": {},
   "outputs": [],
   "source": [
    "# SR_B6 band\n",
    "sr_b6 = images_sr.select('SR_B6')\n",
    "collection_list = sr_b6.toList(sr_b6.size())\n",
    "collection_size = collection_list.size().getInfo()\n",
    "# has a bug, has many dates that shouldnt be there. However, I will fix later\n",
    "dates = geemap.image_dates(sr_b6, date_format='YYYY-MM-dd').getInfo()"
   ]
  },
  {
   "cell_type": "code",
   "execution_count": null,
   "metadata": {},
   "outputs": [],
   "source": [
    "# exportData(\n",
    "#     aoi,\n",
    "#     dates, \n",
    "#     collection_size, \n",
    "#     collection_list, \n",
    "#     \"../data/LANDSAT8_SR_B6/LANDSAT8_SR_B6_{}.tif\"\n",
    "# )"
   ]
  },
  {
   "cell_type": "markdown",
   "metadata": {},
   "source": [
    "#### Band 7"
   ]
  },
  {
   "cell_type": "code",
   "execution_count": null,
   "metadata": {},
   "outputs": [],
   "source": [
    "# SR_B7 band\n",
    "sr_b7 = images_sr.select('SR_B6')\n",
    "collection_list = sr_b7.toList(sr_b7.size())\n",
    "collection_size = collection_list.size().getInfo()\n",
    "# has a bug, has many dates that shouldnt be there. However, I will fix later\n",
    "dates = geemap.image_dates(sr_b7, date_format='YYYY-MM-dd').getInfo()"
   ]
  },
  {
   "cell_type": "code",
   "execution_count": null,
   "metadata": {},
   "outputs": [],
   "source": [
    "# exportData(\n",
    "#     aoi,\n",
    "#     dates, \n",
    "#     collection_size, \n",
    "#     collection_list, \n",
    "#     \"../data/LANDSAT8_SR_B7/LANDSAT8_SR_B7_{}.tif\"\n",
    "# )"
   ]
  },
  {
   "cell_type": "code",
   "execution_count": null,
   "metadata": {},
   "outputs": [],
   "source": []
  },
  {
   "cell_type": "code",
   "execution_count": null,
   "metadata": {},
   "outputs": [],
   "source": [
    "# ndwi\n",
    "ndwi_images = images_sr.map(computeNDWI).select(\"NDWI\")\n",
    "collection_list = ndwi_images.toList(ndwi_images.size())\n",
    "collection_size = collection_list.size().getInfo()\n",
    "# has a bug, has many dates that shouldnt be there. However, I will fix later\n",
    "dates = geemap.image_dates(ndwi_images, date_format='YYYY-MM-dd').getInfo()"
   ]
  },
  {
   "cell_type": "code",
   "execution_count": null,
   "metadata": {},
   "outputs": [],
   "source": [
    "# exportData(\n",
    "#     aoi,\n",
    "#     dates, \n",
    "#     collection_size, \n",
    "#     collection_list, \n",
    "#     \"../data/LANDSAT8_NDWI_SR_B7/LANDSAT8_NDWI_B7_{}.tif\"\n",
    "# )"
   ]
  },
  {
   "cell_type": "code",
   "execution_count": null,
   "metadata": {},
   "outputs": [],
   "source": []
  },
  {
   "cell_type": "code",
   "execution_count": null,
   "metadata": {},
   "outputs": [],
   "source": [
    "# mndwi band\n",
    "mndwi_images = images_sr.map(computeMNDWI).select(\"MNDWI\")\n",
    "collection_list = mndwi_images.toList(mndwi_images.size())\n",
    "collection_size = collection_list.size().getInfo()\n",
    "# has a bug, has many dates that shouldnt be there. However, I will fix later\n",
    "dates = geemap.image_dates(mndwi_images, date_format='YYYY-MM-dd').getInfo()"
   ]
  },
  {
   "cell_type": "code",
   "execution_count": null,
   "metadata": {},
   "outputs": [],
   "source": [
    "# exportData(\n",
    "#     aoi,\n",
    "#     dates, \n",
    "#     collection_size, \n",
    "#     collection_list, \n",
    "#     \"../data/LANDSAT8_MNDWI/LANDSAT8_MNDWI_{}.tif\"\n",
    "# )"
   ]
  },
  {
   "cell_type": "code",
   "execution_count": null,
   "metadata": {},
   "outputs": [],
   "source": []
  },
  {
   "cell_type": "code",
   "execution_count": null,
   "metadata": {},
   "outputs": [],
   "source": [
    "# water band from JRC Monthly Water History\n",
    "img_validation = images_validation.select(\"water\")\n",
    "collection_list = img_validation.toList(img_validation.size())\n",
    "collection_size = collection_list.size().getInfo()\n",
    "# has a bug, has many dates that shouldnt be there. However, I will fix later\n",
    "dates = geemap.image_dates(img_validation, date_format='YYYY-MM-dd').getInfo()"
   ]
  },
  {
   "cell_type": "code",
   "execution_count": null,
   "metadata": {},
   "outputs": [],
   "source": [
    "# exportData(\n",
    "#     aoi,\n",
    "#     dates, \n",
    "#     collection_size, \n",
    "#     collection_list, \n",
    "#     \"../data/JRC_Monthly_Water_History/JRC_Monthly_{}.tif\"\n",
    "# )"
   ]
  },
  {
   "cell_type": "markdown",
   "metadata": {},
   "source": [
    "### Read Data Section\n",
    "Make a list of all gathered images in the form of (date, image) tuples."
   ]
  },
  {
   "cell_type": "code",
   "execution_count": null,
   "metadata": {},
   "outputs": [],
   "source": [
    "modis = readData(\"../data/WATER_MASK_DERIVED_MODIS/\")\n",
    "print(modis[0][0])\n",
    "print(modis[0][1].shape)"
   ]
  },
  {
   "cell_type": "code",
   "execution_count": null,
   "metadata": {},
   "outputs": [],
   "source": []
  },
  {
   "cell_type": "code",
   "execution_count": null,
   "metadata": {},
   "outputs": [],
   "source": [
    "mndwi_img_lst = readData(\"../data/LANDSAT8_MNDWI/\")\n",
    "print(mndwi_img_lst[0][0])\n",
    "print(mndwi_img_lst[0][1].shape)"
   ]
  },
  {
   "cell_type": "code",
   "execution_count": null,
   "metadata": {},
   "outputs": [],
   "source": []
  },
  {
   "cell_type": "code",
   "execution_count": null,
   "metadata": {},
   "outputs": [],
   "source": [
    "# list for sentinel data\n",
    "ndwi_sentinel = readData(\"../data/SENTINEL2_NDWI/\")\n",
    "print(ndwi_sentinel[0][0])\n",
    "print(ndwi_sentinel[0][1].shape)"
   ]
  },
  {
   "cell_type": "code",
   "execution_count": null,
   "metadata": {},
   "outputs": [],
   "source": []
  },
  {
   "cell_type": "code",
   "execution_count": null,
   "metadata": {},
   "outputs": [],
   "source": [
    "b3_img_lst = readData(\"../data/LANDSAT8_SR_B3/\")\n",
    "print(b3_img_lst[0][0])\n",
    "print(b3_img_lst[0][1].shape)"
   ]
  },
  {
   "cell_type": "code",
   "execution_count": null,
   "metadata": {},
   "outputs": [],
   "source": []
  },
  {
   "cell_type": "code",
   "execution_count": null,
   "metadata": {},
   "outputs": [],
   "source": [
    "b5_img_lst = readData(\"../data/LANDSAT8_SR_B5/\")\n",
    "print(b5_img_lst[0][0])\n",
    "print(b5_img_lst[0][1].shape)"
   ]
  },
  {
   "cell_type": "code",
   "execution_count": null,
   "metadata": {},
   "outputs": [],
   "source": []
  },
  {
   "cell_type": "code",
   "execution_count": null,
   "metadata": {},
   "outputs": [],
   "source": [
    "b6_img_lst = readData(\"../data/LANDSAT8_SR_B6/\")\n",
    "print(b6_img_lst[0][0])\n",
    "print(b6_img_lst[0][1].shape)"
   ]
  },
  {
   "cell_type": "code",
   "execution_count": null,
   "metadata": {},
   "outputs": [],
   "source": []
  },
  {
   "cell_type": "code",
   "execution_count": null,
   "metadata": {},
   "outputs": [],
   "source": [
    "b7_img_lst = readData(\"../data/LANDSAT8_SR_B7/\")\n",
    "print(b7_img_lst[0][0])\n",
    "print(b7_img_lst[0][1].shape)"
   ]
  },
  {
   "cell_type": "code",
   "execution_count": null,
   "metadata": {},
   "outputs": [],
   "source": []
  },
  {
   "cell_type": "code",
   "execution_count": null,
   "metadata": {},
   "outputs": [],
   "source": [
    "# list of landsat8 provide path to images\n",
    "landsat8_ndwi_b5 = readData(\"../data/LANDSAT8_NDWI/\")\n",
    "print(landsat8_ndwi_b5[0][0])\n",
    "print(landsat8_ndwi_b5[0][1].shape)"
   ]
  },
  {
   "cell_type": "code",
   "execution_count": null,
   "metadata": {},
   "outputs": [],
   "source": []
  },
  {
   "cell_type": "code",
   "execution_count": null,
   "metadata": {},
   "outputs": [],
   "source": [
    "landsat8_ndwi_b6 = readData(\"../data/LANDSAT8_NDWI_SR_B6/\")\n",
    "print(landsat8_ndwi_b6[0][0])\n",
    "print(landsat8_ndwi_b6[0][1].shape)"
   ]
  },
  {
   "cell_type": "code",
   "execution_count": null,
   "metadata": {},
   "outputs": [],
   "source": []
  },
  {
   "cell_type": "code",
   "execution_count": null,
   "metadata": {},
   "outputs": [],
   "source": [
    "landsat8_ndwi_b7 = readData(\"../data/LANDSAT8_NDWI_SR_B7/\")\n",
    "print(landsat8_ndwi_b7[0][0])\n",
    "print(landsat8_ndwi_b7[0][1].shape)"
   ]
  },
  {
   "cell_type": "code",
   "execution_count": null,
   "metadata": {},
   "outputs": [],
   "source": []
  },
  {
   "cell_type": "code",
   "execution_count": null,
   "metadata": {},
   "outputs": [],
   "source": [
    "jrc_monthly_water_history = readData(\"../data/JRC_Monthly_Water_History/\")\n",
    "print(jrc_monthly_water_history[0][0])\n",
    "print(jrc_monthly_water_history[0][1].shape)"
   ]
  },
  {
   "cell_type": "markdown",
   "metadata": {},
   "source": [
    "### Data Viz Section"
   ]
  },
  {
   "cell_type": "markdown",
   "metadata": {},
   "source": [
    "#### NDWI image using sentinel data"
   ]
  },
  {
   "cell_type": "code",
   "execution_count": null,
   "metadata": {},
   "outputs": [],
   "source": [
    "print(ndwi_sentinel[0][0])\n",
    "plt.imshow(ndwi_sentinel[1][1])\n",
    "plt.show()\n",
    "\n",
    "plt.hist(\n",
    "    ndwi_sentinel[1][1].flatten(), \n",
    "    bins=100\n",
    ")\n",
    "plt.ylabel(\"count\")\n",
    "plt.xlabel(\"intensity\")\n",
    "plt.title(\"Distribution of Sentinel pixel values: {}\".format(ndwi_sentinel[0][0]))\n",
    "plt.show()"
   ]
  },
  {
   "cell_type": "markdown",
   "metadata": {},
   "source": []
  },
  {
   "cell_type": "code",
   "execution_count": null,
   "metadata": {},
   "outputs": [],
   "source": [
    "print(b3_img_lst[0][0])\n",
    "plt.imshow(b3_img_lst[0][1])\n",
    "plt.show()\n",
    "\n",
    "plt.hist(\n",
    "    b3_img_lst[0][1].flatten(), \n",
    "    bins=100\n",
    ")\n",
    "plt.ylabel(\"count\")\n",
    "plt.xlabel(\"intensity\")\n",
    "plt.title(\"Distribution of B3 pixel values: {}\".format(b3_img_lst[0][0]))\n",
    "plt.show()"
   ]
  },
  {
   "cell_type": "markdown",
   "metadata": {},
   "source": []
  },
  {
   "cell_type": "code",
   "execution_count": null,
   "metadata": {},
   "outputs": [],
   "source": [
    "plt.hist(\n",
    "    b3_img_lst[2][1].flatten(), \n",
    "    bins=80,\n",
    "    alpha=0.4,\n",
    "    label=\"Band B3\",\n",
    "    color=\"cornflowerblue\"\n",
    ")\n",
    "plt.hist(\n",
    "    b5_img_lst[2][1].flatten(), \n",
    "    bins=80,\n",
    "    alpha=0.4,\n",
    "    label=\"Band B5\",\n",
    "    color=\"mediumblue\"\n",
    ")\n",
    "plt.hist(\n",
    "    b6_img_lst[2][1].flatten(), \n",
    "    bins=80,\n",
    "    alpha=0.4,\n",
    "    label=\"Band B6\",\n",
    "    color=\"blueviolet\"\n",
    ")\n",
    "plt.hist(\n",
    "    b7_img_lst[2][1].flatten(), \n",
    "    bins=80,\n",
    "    alpha=0.4,\n",
    "    label=\"Band B7\",\n",
    "    color=\"blue\"\n",
    ")\n",
    "plt.legend()\n",
    "plt.ylabel(\"count\")\n",
    "plt.title(\"Distribution of SR_B3-SR_B7 pixel values: {}\".format(b5_img_lst[2][0]))\n",
    "plt.show()\n",
    "\n",
    "fig, axes = plt.subplots(ncols=2, figsize=(10, 3))\n",
    "ax = axes.ravel()\n",
    "\n",
    "ax[0].imshow(b5_img_lst[1][1])\n",
    "ax[0].set_title('Band 5: {}'.format(b5_img_lst[1][0]))\n",
    "\n",
    "ax[1].imshow(b3_img_lst[1][1])\n",
    "ax[1].set_title('Band 3: {}'.format(b3_img_lst[1][0]))\n",
    "\n",
    "\n",
    "for a in ax:\n",
    "    a.axis('off')\n",
    "\n",
    "plt.show()"
   ]
  },
  {
   "cell_type": "code",
   "execution_count": null,
   "metadata": {},
   "outputs": [],
   "source": [
    "plt.hist(\n",
    "    b3_img_lst[1][1].flatten(), \n",
    "    bins=80,\n",
    "    alpha=0.5,\n",
    "    label=\"Band B3\"\n",
    ")\n",
    "plt.hist(\n",
    "    b6_img_lst[1][1].flatten(), \n",
    "    bins=80,\n",
    "    alpha=0.5,\n",
    "    label=\"Band B6\"\n",
    ")\n",
    "plt.legend()\n",
    "plt.ylabel(\"count\")\n",
    "plt.title(\"Distribution of B3 and B6 pixel values: {}\".format(b6_img_lst[1][0]))\n",
    "plt.show()\n",
    "\n",
    "fig, axes = plt.subplots(ncols=2, figsize=(10, 3))\n",
    "ax = axes.ravel()\n",
    "\n",
    "ax[0].imshow(b6_img_lst[1][1])\n",
    "ax[0].set_title('Band 6: {}'.format(b6_img_lst[1][0]))\n",
    "\n",
    "ax[1].imshow(b3_img_lst[1][1])\n",
    "ax[1].set_title('Band 3: {}'.format(b3_img_lst[1][0]))\n",
    "\n",
    "\n",
    "for a in ax:\n",
    "    a.axis('off')\n",
    "\n",
    "plt.show()\n",
    "plt.savefig(fname=\"savedfigs\")"
   ]
  },
  {
   "cell_type": "code",
   "execution_count": null,
   "metadata": {},
   "outputs": [],
   "source": [
    "plt.hist(\n",
    "    b3_img_lst[1][1].flatten(), \n",
    "    bins=80,\n",
    "    alpha=0.5,\n",
    "    label=\"Band B3\"\n",
    ")\n",
    "plt.hist(\n",
    "    b7_img_lst[1][1].flatten(), \n",
    "    bins=80,\n",
    "    alpha=0.5,\n",
    "    label=\"Band B7\"\n",
    ")\n",
    "plt.legend()\n",
    "plt.ylabel(\"count\")\n",
    "plt.title(\"Distribution of B3 and B7 pixel values: {}\".format(b7_img_lst[1][0]))\n",
    "plt.show()\n",
    "\n",
    "fig, axes = plt.subplots(ncols=2, figsize=(10, 3))\n",
    "ax = axes.ravel()\n",
    "\n",
    "ax[0].imshow(b7_img_lst[1][1])\n",
    "ax[0].set_title('Band 7: {}'.format(b7_img_lst[1][0]))\n",
    "\n",
    "ax[1].imshow(b3_img_lst[1][1])\n",
    "ax[1].set_title('Band 3: {}'.format(b3_img_lst[1][0]))\n",
    "\n",
    "\n",
    "for a in ax:\n",
    "    a.axis('off')\n",
    "\n",
    "plt.show()"
   ]
  },
  {
   "cell_type": "markdown",
   "metadata": {},
   "source": []
  },
  {
   "cell_type": "code",
   "execution_count": null,
   "metadata": {},
   "outputs": [],
   "source": [
    "plt.hist(\n",
    "    b3_img_lst[-1][1].flatten(), \n",
    "    bins=80,\n",
    "    alpha=0.5,\n",
    "    label=\"Band B3\"\n",
    ")\n",
    "plt.hist(\n",
    "    b5_img_lst[-1][1].flatten(), \n",
    "    bins=80,\n",
    "    alpha=0.5,\n",
    "    label=\"Band B5\"\n",
    ")\n",
    "\n",
    "plt.legend()\n",
    "plt.ylabel(\"count\")\n",
    "plt.title(\"Distribution of B3 and B5 pixel values: {}\".format(b5_img_lst[-1][0]))\n",
    "plt.show()\n",
    "\n",
    "fig, axes = plt.subplots(ncols=2, figsize=(10, 3))\n",
    "ax = axes.ravel()\n",
    "\n",
    "ax[0].imshow(b5_img_lst[-1][1])\n",
    "ax[0].set_title('Band 5: {}'.format(b5_img_lst[-1][0]))\n",
    "\n",
    "ax[1].imshow(b3_img_lst[-1][1])\n",
    "ax[1].set_title('Band 3: {}'.format(b3_img_lst[-1][0]))\n",
    "\n",
    "\n",
    "for a in ax:\n",
    "    a.axis('off')\n",
    "\n",
    "plt.show()"
   ]
  },
  {
   "cell_type": "markdown",
   "metadata": {},
   "source": []
  },
  {
   "cell_type": "code",
   "execution_count": null,
   "metadata": {},
   "outputs": [],
   "source": [
    "b3_mean_per_pixel = []\n",
    "b5_mean_per_pixel = []\n",
    "for i in range(1, len(b3_img_lst)):\n",
    "    b3_mean_per_pixel.append(b3_img_lst[i][1])\n",
    "    b5_mean_per_pixel.append(b5_img_lst[i][1])\n",
    "\n",
    "b3_mean_per_pixel  = np.mean(\n",
    "        np.dstack(b3_mean_per_pixel), \n",
    "        -1\n",
    "    )\n",
    "b5_mean_per_pixel  = np.mean(\n",
    "        np.dstack(b5_mean_per_pixel), \n",
    "        -1\n",
    "    )\n",
    "\n",
    "plt.hist(\n",
    "    b3_mean_per_pixel.flatten(), \n",
    "    bins=80,\n",
    "    alpha=0.5,\n",
    "    label=\"Band B3\"\n",
    ")\n",
    "plt.hist(\n",
    "    b5_mean_per_pixel.flatten(), \n",
    "    bins=80,\n",
    "    alpha=0.5,\n",
    "    label=\"Band B5\"\n",
    ")\n",
    "plt.title(\"Distribution of B3 and B5 values\")\n",
    "plt.legend()\n",
    "plt.ylabel(\"count\")\n",
    "plt.show()\n",
    "\n",
    "\n",
    "fig, axes = plt.subplots(ncols=2, figsize=(10, 3))\n",
    "ax = axes.ravel()\n",
    "\n",
    "ax[0].imshow(b5_mean_per_pixel)\n",
    "ax[0].set_title('Mean Band 5')\n",
    "\n",
    "ax[1].imshow(b3_mean_per_pixel)\n",
    "ax[1].set_title('Mean Band 3')\n",
    "\n",
    "\n",
    "for a in ax:\n",
    "    a.axis('off')\n",
    "\n",
    "plt.show()"
   ]
  },
  {
   "cell_type": "code",
   "execution_count": null,
   "metadata": {},
   "outputs": [],
   "source": [
    "plt.hist(\n",
    "    jrc_monthly_water_history[1][1].flatten(), \n",
    "    bins=80,\n",
    "    alpha=0.5,\n",
    "    label=\"Validation Data\"\n",
    ")\n",
    "# plt.hist(\n",
    "#     landsat8_ndwi_b5[1][1].flatten(), \n",
    "#     bins=80,\n",
    "#     alpha=0.5,\n",
    "#     label=\"Band B5\"\n",
    "# )\n",
    "plt.legend()\n",
    "plt.ylabel(\"count\")\n",
    "plt.title(\"Distribution of pixel values for validation data: {}\".format(jrc_monthly_water_history[1][0]))\n",
    "plt.show()\n",
    "\n",
    "fig, axes = plt.subplots(ncols=2, figsize=(10, 3))\n",
    "ax = axes.ravel()\n",
    "\n",
    "ax[0].imshow(landsat8_ndwi_b5[1][1])\n",
    "ax[0].set_title('Band 5: {}'.format(landsat8_ndwi_b5[1][0]))\n",
    "\n",
    "ax[1].imshow(jrc_monthly_water_history[1][1])\n",
    "ax[1].set_title('Validation Data: {}'.format(jrc_monthly_water_history[1][0]))\n",
    "\n",
    "\n",
    "for a in ax:\n",
    "    a.axis('off')\n",
    "\n",
    "plt.show()"
   ]
  },
  {
   "cell_type": "code",
   "execution_count": null,
   "metadata": {},
   "outputs": [],
   "source": []
  },
  {
   "cell_type": "code",
   "execution_count": null,
   "metadata": {},
   "outputs": [],
   "source": []
  },
  {
   "cell_type": "code",
   "execution_count": null,
   "metadata": {},
   "outputs": [],
   "source": [
    "def visualize_images(img_lst, est_area_lst, binary):\n",
    "    \n",
    "    \n",
    "    for i in range(len(img_lst)):\n",
    "\n",
    "        fig, axes = plt.subplots(ncols=2, figsize=(8, 3))\n",
    "        ax = axes.ravel()\n",
    "\n",
    "        ax[0].imshow(img_lst[i][1], cmap=plt.cm.gray)\n",
    "        ax[0].set_title('Orginal: {}'.format(d))\n",
    "\n",
    "        ax[1].imshow(binary[i], cmap=plt.cm.gray)\n",
    "        ax[1].set_title(\n",
    "            'Result: {}\\n Estimated Surface Area: {} meters squared'.format(img_lst[i][0], est_area_lst[i][1])\n",
    "        )\n",
    "\n",
    "        for a in ax:\n",
    "            a.axis('off')\n",
    "\n",
    "        plt.show()\n",
    "    "
   ]
  },
  {
   "cell_type": "code",
   "execution_count": null,
   "metadata": {},
   "outputs": [],
   "source": [
    "def estimate_surface_area(img_lst):\n",
    "    \n",
    "    out_list = []\n",
    "    binary_out_lst = []\n",
    "\n",
    "    for d, i in img_lst:\n",
    "        thresh = threshold_minimum(i)\n",
    "        binary = i > thresh\n",
    "        binary_out_lst.append(binary)\n",
    "\n",
    "        estimated_surface_area = (binary.flatten().sum() * (30 ** 2))\n",
    "        out_list += [(d, estimated_surface_area)]\n",
    "    \n",
    "    return out_list, binary_out_lst\n",
    "    \n",
    "    "
   ]
  },
  {
   "cell_type": "code",
   "execution_count": null,
   "metadata": {},
   "outputs": [],
   "source": [
    "landsat8_ndwi_b5_est_area, binary_b5 = estimate_surface_area(landsat8_ndwi_b5)\n",
    "# displays viz of images and estimated surface area\n",
    "visualize_images(\n",
    "    landsat8_ndwi_b5,\n",
    "    landsat8_ndwi_b5_est_area,\n",
    "    binary_b5\n",
    ")"
   ]
  },
  {
   "cell_type": "code",
   "execution_count": null,
   "metadata": {},
   "outputs": [],
   "source": []
  },
  {
   "cell_type": "code",
   "execution_count": null,
   "metadata": {},
   "outputs": [],
   "source": [
    "landsat8_ndwi_b6_est_area, binary_b6 = estimate_surface_area(landsat8_ndwi_b6)\n",
    "# displays viz of images and estimated surface area\n",
    "visualize_images(\n",
    "    landsat8_ndwi_b6,\n",
    "    landsat8_ndwi_b6_est_area,\n",
    "    binary_b6\n",
    ")"
   ]
  },
  {
   "cell_type": "code",
   "execution_count": null,
   "metadata": {},
   "outputs": [],
   "source": [
    "landsat8_ndwi_b7_est_area, binary_b7 = estimate_surface_area(landsat8_ndwi_b7)\n",
    "# displays viz of images and estimated surface area\n",
    "visualize_images(\n",
    "    landsat8_ndwi_b7,\n",
    "    landsat8_ndwi_b7_est_area,\n",
    "    binary_b7\n",
    ")"
   ]
  },
  {
   "cell_type": "code",
   "execution_count": null,
   "metadata": {},
   "outputs": [],
   "source": []
  },
  {
   "cell_type": "code",
   "execution_count": null,
   "metadata": {},
   "outputs": [],
   "source": []
  },
  {
   "cell_type": "code",
   "execution_count": null,
   "metadata": {},
   "outputs": [],
   "source": [
    "# this will resize the validation image data to match the same dimensions of our landsat data\n",
    "resized_jrc = []\n",
    "\n",
    "for d, i in jrc_monthly_water_history:\n",
    "    resized_jrc.append((d, resize(i, landsat8_ndwi_b5[0][1].shape)))"
   ]
  },
  {
   "cell_type": "code",
   "execution_count": null,
   "metadata": {},
   "outputs": [],
   "source": [
    "print(resized_jrc[0][1].shape)\n",
    "plt.imshow(resized_jrc[0][1])"
   ]
  },
  {
   "cell_type": "code",
   "execution_count": null,
   "metadata": {},
   "outputs": [],
   "source": [
    "plt.hist(\n",
    "    resized_jrc[0][1]\n",
    ")"
   ]
  },
  {
   "cell_type": "code",
   "execution_count": null,
   "metadata": {},
   "outputs": [],
   "source": [
    "plt.imshow(resized_jrc[0][1] > 0.007)"
   ]
  },
  {
   "cell_type": "code",
   "execution_count": null,
   "metadata": {},
   "outputs": [],
   "source": [
    "computed_area_valid, binary_valid = estimate_surface_area(resized_jrc)"
   ]
  },
  {
   "cell_type": "code",
   "execution_count": null,
   "metadata": {},
   "outputs": [],
   "source": [
    "for i in range(len(binary_b5)):\n",
    "    \n",
    "    fig, axes = plt.subplots(ncols=2, figsize=(10, 3))\n",
    "    ax = axes.ravel()\n",
    "\n",
    "    ax[0].imshow(binary_b5[i])\n",
    "    ax[0].set_title('NDWI using Band 3/5: {}'.format(landsat8_ndwi_b5[i][0]))\n",
    "\n",
    "    ax[1].imshow(resized_jrc[i+2][1])\n",
    "    ax[1].set_title('Validation Data: {}'.format(resized_jrc[i+2][0]))\n",
    "\n",
    "\n",
    "    for a in ax:\n",
    "        a.axis('off')\n",
    "\n",
    "    plt.show()"
   ]
  },
  {
   "cell_type": "code",
   "execution_count": null,
   "metadata": {},
   "outputs": [],
   "source": [
    "look into convert to decimal dates"
   ]
  },
  {
   "cell_type": "code",
   "execution_count": null,
   "metadata": {},
   "outputs": [],
   "source": [
    "df1 = pd.DataFrame(landsat8_ndwi_b5_est_area, columns=['date', 'est_surface_area'])\n",
    "df2 = pd.DataFrame(validation_data_area, columns=['date', 'est_surface_area'])\n",
    "\n",
    "df1 = df1[df1[\"est_surface_area\"] < 3e8]\n",
    "df2 = df2[df2[\"est_surface_area\"] > 0]\n",
    "\n",
    "\n",
    "ax = df1.plot(x='date', y='est_surface_area', label='landsat8 NDWI')\n",
    "df2.plot(x='date', y='est_surface_area', label='validation', ax=ax)\n",
    "\n",
    "plt.show()"
   ]
  },
  {
   "cell_type": "code",
   "execution_count": null,
   "metadata": {},
   "outputs": [],
   "source": [
    "for i in range(len(resized_jrc)):\n",
    "\n",
    "        fig, axes = plt.subplots(ncols=2, figsize=(8, 3))\n",
    "        ax = axes.ravel()\n",
    "\n",
    "        ax[0].imshow(resized_jrc[i][1], cmap=plt.cm.gray)\n",
    "        ax[0].set_title('Orginal: {}'.format(resized_jrc[i][0]))\n",
    "\n",
    "        ax[1].imshow(resized_jrc[i][1] > 0.007, cmap=plt.cm.gray)\n",
    "#         ax[1].set_title(\n",
    "#             'Result: {}\\n Estimated Surface Area: {} meters squared'.format(img_lst[i][0], est_area_lst[i][1])\n",
    "#         )\n",
    "\n",
    "        for a in ax:\n",
    "            a.axis('off')\n",
    "\n",
    "        plt.show()"
   ]
  },
  {
   "cell_type": "code",
   "execution_count": null,
   "metadata": {},
   "outputs": [],
   "source": []
  },
  {
   "cell_type": "code",
   "execution_count": null,
   "metadata": {},
   "outputs": [],
   "source": []
  },
  {
   "cell_type": "code",
   "execution_count": null,
   "metadata": {},
   "outputs": [],
   "source": []
  },
  {
   "cell_type": "code",
   "execution_count": null,
   "metadata": {},
   "outputs": [],
   "source": []
  },
  {
   "cell_type": "code",
   "execution_count": null,
   "metadata": {},
   "outputs": [],
   "source": []
  },
  {
   "cell_type": "code",
   "execution_count": null,
   "metadata": {},
   "outputs": [],
   "source": [
    "sorted(validation_data_area, key=lambda x: x[0])\n",
    "plt.figure(figsize=(20, 5))\n",
    "plt.ylabel('meters squared')\n",
    "plt.xlabel('date')\n",
    "plt.xticks(rotation=90)\n",
    "d = [x[0] for x in validation_data_area if x[1] > 0]\n",
    "g = [x[1] for x in validation_data_area if x[1] > 0]\n",
    "plt.scatter(d, g, color=\"green\")\n",
    "plt.title('Validation Surface Area of Lake Oroville Over Time')\n",
    "plt.show()"
   ]
  },
  {
   "cell_type": "code",
   "execution_count": null,
   "metadata": {},
   "outputs": [],
   "source": [
    "sorted(landsat8_ndwi_b5_est_area, key=lambda x: x[0])\n",
    "sorted(landsat8_ndwi_b6_est_area, key=lambda x: x[0])\n",
    "sorted(landsat8_ndwi_b7_est_area, key=lambda x: x[0])\n",
    "plt.figure(figsize=(20, 5))\n",
    "plt.ylabel('meters squared')\n",
    "plt.xlabel('date')\n",
    "plt.xticks(rotation=90)\n",
    "d = [x[0] for x in landsat8_ndwi_b5_est_area if x[1] < 2e8]\n",
    "g = [x[1] for x in landsat8_ndwi_b5_est_area if x[1] < 2e8]\n",
    "plt.scatter(d, g, color=\"red\")\n",
    "d = [x[0] for x in landsat8_ndwi_b6_est_area if x[1] < 2e8]\n",
    "g = [x[1] for x in landsat8_ndwi_b6_est_area if x[1] < 2e8]\n",
    "plt.scatter(d, g, color=\"blue\")\n",
    "d = [x[0] for x in landsat8_ndwi_b7_est_area if x[1] < 2e8]\n",
    "g = [x[1] for x in landsat8_ndwi_b7_est_area if x[1] < 2e8]\n",
    "plt.scatter(d, g, color=\"green\")\n",
    "plt.title('Estimated Surface Area of Lake Oroville Over Time')\n",
    "plt.show()"
   ]
  },
  {
   "cell_type": "code",
   "execution_count": null,
   "metadata": {},
   "outputs": [],
   "source": []
  },
  {
   "cell_type": "code",
   "execution_count": null,
   "metadata": {},
   "outputs": [],
   "source": []
  },
  {
   "cell_type": "code",
   "execution_count": null,
   "metadata": {},
   "outputs": [],
   "source": [
    "import pandas as pd\n",
    "\n",
    "fr = pd.DataFrame(est_surface_areas, columns=['date', 'est_surface_area'])\n",
    "fr['date'] = pd.to_datetime(fr['date'])\n",
    "fr['year'] = fr['date'].dt.year\n",
    "gb = fr.groupby('year').median()\n",
    "\n",
    "plt.figure(figsize=(10, 10))\n",
    "plt.ylabel('meters squared')\n",
    "plt.xlabel('year')\n",
    "plt.title('Median Estimated Water Surface Area of Lake Oroville by Year')\n",
    "plt.bar(gb.index, gb.est_surface_area)\n",
    "plt.show()"
   ]
  },
  {
   "cell_type": "code",
   "execution_count": null,
   "metadata": {},
   "outputs": [],
   "source": []
  },
  {
   "cell_type": "code",
   "execution_count": null,
   "metadata": {},
   "outputs": [],
   "source": []
  },
  {
   "cell_type": "markdown",
   "metadata": {},
   "source": [
    "### Using Folium to display an image from an ImageCollection"
   ]
  },
  {
   "cell_type": "code",
   "execution_count": null,
   "metadata": {},
   "outputs": [],
   "source": [
    "# import a collection and convert to an image\n",
    "image = ee.Image(ee.ImageCollection(\"COPERNICUS/S2_SR_HARMONIZED\") \n",
    "                       .filterBounds(aoi) \n",
    "                       .filterDate(ee.Date('2020-08-01'), ee.Date('2020-08-31')) \n",
    "                       .first() \n",
    "                       .clip(aoi))"
   ]
  },
  {
   "cell_type": "code",
   "execution_count": null,
   "metadata": {},
   "outputs": [],
   "source": [
    "# Create an NDWI image, define visualization parameters and display.\n",
    "ndwi = image.normalizedDifference(['B3', 'B5'])\n",
    "ndwi_viz = {'min': 0.4, 'max': 1, 'palette': ['blue', 'red']\n",
    "}"
   ]
  },
  {
   "cell_type": "code",
   "execution_count": null,
   "metadata": {},
   "outputs": [],
   "source": [
    "# Mask the non-watery parts of the image, where NDWI < 0.1.\n",
    "ndwi_masked = ndwi.updateMask(ndwi.gte(0))\n",
    "\n",
    "# Define a map centered on Lake Oroville.\n",
    "map_ndwi_masked = folium.Map(location=[39.58, -121.47], zoom_start=11)\n",
    "\n",
    "# Add the image layer to the map and display it.\n",
    "map_ndwi_masked.add_ee_layer(image, {'min': .4, 'max': 1}, 'land mask')\n",
    "map_ndwi_masked.add_ee_layer(ndwi_masked, ndwi_viz, 'NDWI masked')\n",
    "display(map_ndwi_masked)"
   ]
  },
  {
   "cell_type": "code",
   "execution_count": null,
   "metadata": {},
   "outputs": [],
   "source": [
    "image_rgb = image.visualize(**{'bands': ['B5', 'B4', 'B6'], 'max': 0.5})\n",
    "ndwi_rgb = ndwi_masked.visualize(**{\n",
    "    'min': 0.5,\n",
    "    'max': 1,\n",
    "    'palette': ['00FFFF', '0000FF']\n",
    "})"
   ]
  },
  {
   "cell_type": "code",
   "execution_count": null,
   "metadata": {},
   "outputs": [],
   "source": [
    "# Mosaic the visualization layers and display (or export).\n",
    "mosaic = ee.ImageCollection([image_rgb, ndwi_rgb]).mosaic()\n",
    "\n",
    "# Define a map centered on Lake Oroville.\n",
    "map_mosaic = folium.Map(location=[39.58, -121.47], zoom_start=11)\n",
    "\n",
    "# Add the image layer to the map and display it.\n",
    "map_mosaic.add_ee_layer(mosaic, None, 'mosaic')\n",
    "display(map_mosaic)"
   ]
  },
  {
   "cell_type": "code",
   "execution_count": null,
   "metadata": {},
   "outputs": [],
   "source": []
  },
  {
   "cell_type": "code",
   "execution_count": null,
   "metadata": {},
   "outputs": [],
   "source": []
  }
 ],
 "metadata": {
  "kernelspec": {
   "display_name": "Python 3 (ipykernel)",
   "language": "python",
   "name": "python3"
  },
  "language_info": {
   "codemirror_mode": {
    "name": "ipython",
    "version": 3
   },
   "file_extension": ".py",
   "mimetype": "text/x-python",
   "name": "python",
   "nbconvert_exporter": "python",
   "pygments_lexer": "ipython3",
   "version": "3.9.5"
  },
  "vscode": {
   "interpreter": {
    "hash": "aee8b7b246df8f9039afb4144a1f6fd8d2ca17a180786b69acc140d282b71a49"
   }
  }
 },
 "nbformat": 4,
 "nbformat_minor": 4
}
